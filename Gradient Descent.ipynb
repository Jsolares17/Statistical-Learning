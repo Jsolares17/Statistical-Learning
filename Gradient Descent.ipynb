{
 "cells": [
  {
   "cell_type": "code",
   "execution_count": 3,
   "id": "sacred-humanitarian",
   "metadata": {},
   "outputs": [
    {
     "name": "stdout",
     "output_type": "stream",
     "text": [
      "WARNING:tensorflow:From C:\\Users\\Javier\\.conda\\envs\\Curso_DataScience\\lib\\site-packages\\tensorflow\\python\\compat\\v2_compat.py:96: disable_resource_variables (from tensorflow.python.ops.variable_scope) is deprecated and will be removed in a future version.\n",
      "Instructions for updating:\n",
      "non-resource variables are not supported in the long term\n"
     ]
    }
   ],
   "source": [
    "import numpy as np\n",
    "import tensorflow.compat.v1 as tf\n",
    "tf.disable_v2_behavior()\n",
    "import matplotlib.pyplot as plt"
   ]
  },
  {
   "cell_type": "code",
   "execution_count": 5,
   "id": "unknown-replacement",
   "metadata": {},
   "outputs": [],
   "source": [
    "url = \"D:/UG/PythonForDataScience/Proyecto Final/proyecto_training_data.npy\"\n",
    "casas =np.load(url)"
   ]
  },
  {
   "cell_type": "code",
   "execution_count": 6,
   "id": "rational-parallel",
   "metadata": {},
   "outputs": [],
   "source": [
    "#Separar los datasets\n",
    "datos_entrenamiento = casas[:int(len(casas)*0.80)] \n",
    "datos_pruebas = casas[int(len(casas)*0.80):]"
   ]
  },
  {
   "cell_type": "code",
   "execution_count": 7,
   "id": "adolescent-stations",
   "metadata": {},
   "outputs": [],
   "source": [
    "x = datos_entrenamiento[:,1]\n",
    "y = datos_entrenamiento[:,0]"
   ]
  },
  {
   "cell_type": "code",
   "execution_count": 8,
   "id": "promotional-thread",
   "metadata": {},
   "outputs": [],
   "source": [
    "np.random.seed(101)\n",
    "tf.set_random_seed(101)"
   ]
  },
  {
   "cell_type": "code",
   "execution_count": 9,
   "id": "dutch-sleeping",
   "metadata": {},
   "outputs": [
    {
     "data": {
      "image/png": "[encoded data removed]",
      "text/plain": [
       "<Figure size 432x288 with 1 Axes>"
      ]
     },
     "metadata": {
      "needs_background": "light"
     },
     "output_type": "display_data"
    }
   ],
   "source": [
    "plt.scatter(x, y)\n",
    "plt.xlabel('Precio Casa')\n",
    "plt.xlabel('Calidad Casa')\n",
    "plt.title(\"Training Data\")\n",
    "plt.show()"
   ]
  },
  {
   "cell_type": "code",
   "execution_count": 10,
   "id": "earlier-findings",
   "metadata": {},
   "outputs": [],
   "source": [
    "\n",
    "X = tf.placeholder(\"float\")\n",
    "Y = tf.placeholder(\"float\")"
   ]
  },
  {
   "cell_type": "code",
   "execution_count": 11,
   "id": "aggregate-manchester",
   "metadata": {},
   "outputs": [],
   "source": [
    "W = tf.Variable(np.random.randn(), name = \"W\")\n",
    "b = tf.Variable(np.random.randn(), name = \"b\")"
   ]
  },
  {
   "cell_type": "code",
   "execution_count": 12,
   "id": "alleged-fever",
   "metadata": {},
   "outputs": [],
   "source": [
    "learning_rate = 0.01\n",
    "training_epochs = 100"
   ]
  },
  {
   "cell_type": "code",
   "execution_count": 13,
   "id": "stable-canyon",
   "metadata": {},
   "outputs": [
    {
     "ename": "NameError",
     "evalue": "name 'n' is not defined",
     "output_type": "error",
     "traceback": [
      "\u001b[1;31m---------------------------------------------------------------------------\u001b[0m",
      "\u001b[1;31mNameError\u001b[0m                                 Traceback (most recent call last)",
      "\u001b[1;32m<ipython-input-13-bf60f16c1652>\u001b[0m in \u001b[0;36m<module>\u001b[1;34m\u001b[0m\n\u001b[0;32m      3\u001b[0m \u001b[1;33m\u001b[0m\u001b[0m\n\u001b[0;32m      4\u001b[0m \u001b[1;31m# Mean Squared Error Cost Function\u001b[0m\u001b[1;33m\u001b[0m\u001b[1;33m\u001b[0m\u001b[1;33m\u001b[0m\u001b[0m\n\u001b[1;32m----> 5\u001b[1;33m \u001b[0mcost\u001b[0m \u001b[1;33m=\u001b[0m \u001b[0mtf\u001b[0m\u001b[1;33m.\u001b[0m\u001b[0mreduce_sum\u001b[0m\u001b[1;33m(\u001b[0m\u001b[0mtf\u001b[0m\u001b[1;33m.\u001b[0m\u001b[0mpow\u001b[0m\u001b[1;33m(\u001b[0m\u001b[0my_pred\u001b[0m\u001b[1;33m-\u001b[0m\u001b[0mY\u001b[0m\u001b[1;33m,\u001b[0m \u001b[1;36m2\u001b[0m\u001b[1;33m)\u001b[0m\u001b[1;33m)\u001b[0m \u001b[1;33m/\u001b[0m \u001b[1;33m(\u001b[0m\u001b[1;36m2\u001b[0m \u001b[1;33m*\u001b[0m \u001b[0mn\u001b[0m\u001b[1;33m)\u001b[0m\u001b[1;33m\u001b[0m\u001b[1;33m\u001b[0m\u001b[0m\n\u001b[0m\u001b[0;32m      6\u001b[0m \u001b[1;33m\u001b[0m\u001b[0m\n\u001b[0;32m      7\u001b[0m \u001b[1;31m# Gradient Descent Optimizer\u001b[0m\u001b[1;33m\u001b[0m\u001b[1;33m\u001b[0m\u001b[1;33m\u001b[0m\u001b[0m\n",
      "\u001b[1;31mNameError\u001b[0m: name 'n' is not defined"
     ]
    }
   ],
   "source": [
    "# Hypothesis\n",
    "y_pred = tf.add(tf.multiply(X, W), b)\n",
    "  \n",
    "# Mean Squared Error Cost Function\n",
    "cost = tf.reduce_sum(tf.pow(y_pred-Y, 2)) / (2 * n)\n",
    "  \n",
    "# Gradient Descent Optimizer\n",
    "optimizer = tf.train.GradientDescentOptimizer(learning_rate).minimize(cost)\n",
    "  \n",
    "# Global Variables Initializer\n",
    "init = tf.global_variables_initializer()"
   ]
  },
  {
   "cell_type": "code",
   "execution_count": 68,
   "id": "funny-marina",
   "metadata": {},
   "outputs": [
    {
     "name": "stdout",
     "output_type": "stream",
     "text": [
      "Epoch 50 : cost = 29026670000.0 W = 35523.246 b = -38544.914\n",
      "Epoch 100 : cost = 27682169000.0 W = 39473.188 b = -63286.14\n",
      "Epoch 150 : cost = 27226464000.0 W = 41745.215 b = -77517.52\n",
      "Epoch 200 : cost = 27069410000.0 W = 43052.26 b = -85704.45\n",
      "Epoch 250 : cost = 27013850000.0 W = 43804.047 b = -90413.33\n",
      "Epoch 300 : cost = 26993410000.0 W = 44236.46 b = -93121.95\n",
      "Epoch 350 : cost = 26985445000.0 W = 44485.285 b = -94680.34\n",
      "Epoch 400 : cost = 26982140000.0 W = 44628.297 b = -95576.266\n",
      "Epoch 450 : cost = 26980650000.0 W = 44710.64 b = -96092.01\n",
      "Epoch 500 : cost = 26979928000.0 W = 44757.906 b = -96388.055\n",
      "Epoch 550 : cost = 26979566000.0 W = 44784.902 b = -96557.14\n",
      "Epoch 600 : cost = 26979363000.0 W = 44800.875 b = -96657.19\n",
      "Epoch 650 : cost = 26979246000.0 W = 44809.9 b = -96713.7\n",
      "Epoch 700 : cost = 26979183000.0 W = 44815.363 b = -96747.88\n",
      "Epoch 750 : cost = 26979142000.0 W = 44818.797 b = -96769.375\n",
      "Epoch 800 : cost = 26979117000.0 W = 44820.684 b = -96781.195\n",
      "Epoch 850 : cost = 26979115000.0 W = 44821.457 b = -96786.06\n",
      "Epoch 900 : cost = 26979110000.0 W = 44821.94 b = -96789.09\n",
      "Epoch 950 : cost = 26979105000.0 W = 44822.293 b = -96791.25\n",
      "Epoch 1000 : cost = 26979105000.0 W = 44822.33 b = -96791.45\n"
     ]
    }
   ],
   "source": [
    "# Starting the Tensorflow Session\n",
    "with tf.Session() as sess:\n",
    "      \n",
    "    # Initializing the Variables\n",
    "    sess.run(init)\n",
    "      \n",
    "    # Iterating through all the epochs\n",
    "    for epoch in range(training_epochs):\n",
    "          \n",
    "        # Feeding each data point into the optimizer using Feed Dictionary\n",
    "        for (_x, _y) in zip(x, y):\n",
    "            sess.run(optimizer, feed_dict = {X : _x, Y : _y})\n",
    "          \n",
    "        # Displaying the result after every 50 epochs\n",
    "        if (epoch + 1) % 50 == 0:\n",
    "            # Calculating the cost a every epoch\n",
    "            c = sess.run(cost, feed_dict = {X : x, Y : y})\n",
    "            print(\"Epoch\", (epoch + 1), \": cost =\", c, \"W =\", sess.run(W), \"b =\", sess.run(b))\n",
    "      \n",
    "    # Storing necessary values to be used outside the Session\n",
    "    training_cost = sess.run(cost, feed_dict ={X: x, Y: y})\n",
    "    weight = sess.run(W)\n",
    "    bias = sess.run(b)"
   ]
  },
  {
   "cell_type": "code",
   "execution_count": 43,
   "id": "addressed-vault",
   "metadata": {},
   "outputs": [
    {
     "name": "stdout",
     "output_type": "stream",
     "text": [
      "Training cost = 5.3110332 Weight = 1.0199214 bias = 0.02561658 \n",
      "\n"
     ]
    }
   ],
   "source": [
    "\n",
    "# Calculating the predictions\n",
    "predictions = weight * x + bias\n",
    "print(\"Training cost =\", training_cost, \"Weight =\", weight, \"bias =\", bias, '\\n')"
   ]
  },
  {
   "cell_type": "code",
   "execution_count": 44,
   "id": "encouraging-daisy",
   "metadata": {},
   "outputs": [
    {
     "data": {
      "image/png": "[encoded data removed]",
      "text/plain": [
       "<Figure size 432x288 with 1 Axes>"
      ]
     },
     "metadata": {
      "needs_background": "light"
     },
     "output_type": "display_data"
    }
   ],
   "source": [
    "# Plotting the Results\n",
    "plt.plot(x, y, 'ro', label ='Original data')\n",
    "plt.plot(x, predictions, label ='Fitted line')\n",
    "plt.title('Linear Regression Result')\n",
    "plt.legend()\n",
    "plt.show()"
   ]
  }
 ],
 "metadata": {
  "kernelspec": {
   "display_name": "Python 3",
   "language": "python",
   "name": "python3"
  },
  "language_info": {
   "codemirror_mode": {
    "name": "ipython",
    "version": 3
   },
   "file_extension": ".py",
   "mimetype": "text/x-python",
   "name": "python",
   "nbconvert_exporter": "python",
   "pygments_lexer": "ipython3",
   "version": "3.8.5"
  }
 },
 "nbformat": 4,
 "nbformat_minor": 5
}
